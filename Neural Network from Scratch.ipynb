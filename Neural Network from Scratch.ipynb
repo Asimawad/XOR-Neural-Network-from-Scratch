{
  "cells": [
    {
      "cell_type": "markdown",
      "metadata": {
        "id": "fkUDAJDlodHs"
      },
      "source": [
        "# Assignment 3: Neural Network By Hand!\n",
        "\n",
        "We want our neural network to solve the XOR problem."
      ]
    },
    {
      "cell_type": "markdown",
      "metadata": {
        "id": "bMUkGuzdprB7"
      },
      "source": [
        "# Part 1: Derivation of Backpropagation\n",
        "\n",
        "- Notation :\n",
        "             s : sample index\n",
        "             S : total number of samples\n",
        "             c : layer number\n",
        "             v : number of features\n",
        "\n",
        "At the last layer :\n",
        "\n",
        "$$\\frac{\\partial Cost}{\\partial W^{c}} = \\frac{1}{S}  Σ_{s=1}^{S} a^{(s,c-1)}[f^{'}(z^{(s,c)}) ⊙ L^{'}(a^{(s,c)},y^{(s)})]^{T}$$\n",
        "\n",
        "$$\\delta^{(s,c)} = f^{'}(z^{(s,c)}) \\odot L^{'}(a^{(s,c)},y^{(s)})$$\n",
        "\n",
        "For every layer:\n",
        "$$\\frac{\\partial Cost}{\\partial W^{c}} =\\frac{1}{S}  \\Sigma_{s=1}^{S} a^{(s,c-1)}[\\delta^{(s,c)}]^T$$\n",
        "\n",
        "Find the demonstration in the attached <font color=\"#E83E8C\"> .pdf </font> file of the same name."
      ]
    },
    {
      "cell_type": "markdown",
      "metadata": {
        "id": "iQZ_LekEwKzf"
      },
      "source": [
        "# Part 2: Code it!\n",
        "\n"
      ]
    },
    {
      "cell_type": "markdown",
      "metadata": {
        "id": "xm8teG8JwlKU"
      },
      "source": [
        "## Setup"
      ]
    },
    {
      "cell_type": "code",
      "execution_count": null,
      "metadata": {
        "id": "kg3LGcAh3dcM"
      },
      "outputs": [],
      "source": [
        "# Useful imports and helpers provided in the assignment #\n",
        "\n",
        "import numpy as np\n",
        "import pandas as pd\n",
        "import random\n",
        "import math\n",
        "np.random.seed(42)\n",
        "\n",
        "import matplotlib.pyplot as plt\n",
        "FONTSIZE = 16\n",
        "params = {\n",
        "         'figure.figsize' : (6,6),\n",
        "         'axes.labelsize' : FONTSIZE,\n",
        "         'axes.titlesize' : FONTSIZE+2,\n",
        "         'legend.fontsize': FONTSIZE,\n",
        "         'xtick.labelsize': FONTSIZE,\n",
        "         'ytick.labelsize': FONTSIZE,\n",
        "         'xtick.color'    : 'black',\n",
        "         'ytick.color'    : 'black',\n",
        "         'axes.facecolor' : 'white',\n",
        "         'axes.edgecolor' : 'black',\n",
        "         'axes.titlepad'  :  20,\n",
        "         'axes.labelpad'  :  10}\n",
        "plt.rcParams.update(params)\n",
        "\n",
        "XNAME = 'x1'; XLABEL = r'$x_1$'\n",
        "YNAME = 'x2'; YLABEL = r'$x_2$'\n",
        "RANGE = (-6, 6); STEP = 0.1\n",
        "\n",
        "def predict(output_node, boundary_value):\n",
        "  output_node.reshape(-1, 1, 1) # a list (m, 1, 1)\n",
        "  predictions = np.array(output_node > boundary_value, dtype=int)\n",
        "  return predictions\n",
        "\n",
        "def plot_cost_vs_iter(train_costs, test_costs, title=\"Cost evolution\"):\n",
        "\n",
        "  fig, ax = plt.subplots(figsize=(8, 6))\n",
        "  iters = np.arange(1,len(train_costs)+1)\n",
        "  ax.plot(iters, train_costs, color='red', lw=1, label='Training set')\n",
        "  ax.plot(iters, test_costs, color='blue', lw=1, label='Testing set')\n",
        "  ax.set_xlabel(\"Number of iterations\"); ax.set_xlim(1, iters[-1])\n",
        "  ax.set_ylabel(\"Cost\")\n",
        "  ax.legend(loc=\"upper right\", frameon=False)\n",
        "  ax.set_title(title)\n",
        "  plt.show()\n",
        "\n",
        "\n",
        "def get_decision_surface(weights, biases, boundary=0.5, range=RANGE, step=STEP):\n",
        "\n",
        "  # Create a grid of points spanning the parameter space:\n",
        "  x1v, x2v = np.meshgrid(np.arange(range[0], range[1]+step, step),\n",
        "                         np.arange(range[0], range[1]+step, step))\n",
        "\n",
        "  # Stack it so that it is shaped like X_train: (m,2)\n",
        "  X_grid = np.c_[x1v.ravel(), x2v.ravel()].reshape(-1,2)\n",
        "\n",
        "  # Feedforward on all grid points and get binary predictions:\n",
        "  output = feedforward(X_grid, weights, biases)[-1] # getting only output node\n",
        "  Ypred_grid = predict(output, boundary)\n",
        "\n",
        "  return (x1v, x2v, Ypred_grid.reshape(x1v.shape))\n",
        "\n",
        "\n",
        "def plot_scatter(sig, bkg, ds=None, xname=XNAME, xlabel=XLABEL, yname=YNAME, ylabel=YLABEL, range=RANGE, step=STEP, title=\"Scatter plot\"):\n",
        "\n",
        "  fig, ax = plt.subplots()\n",
        "\n",
        "  # Decision surface\n",
        "  if ds:\n",
        "    (xx, yy, Z) = ds # unpack contour data\n",
        "    cs = plt.contourf(xx, yy, Z, levels=[0,0.5,1], colors=['orange','dodgerblue'], alpha=0.3)\n",
        "\n",
        "  # Scatter signal and background:\n",
        "  ax.scatter(sig[xname], sig[yname], marker='o', s=10, c='dodgerblue', alpha=1, label='Positive class')\n",
        "  ax.scatter(bkg[xname], bkg[yname], marker='o', s=10, c='orange',     alpha=1, label='Negative class')\n",
        "\n",
        "  # Axes, legend and plot:\n",
        "  ax.set_xlim(range); ax.set_xlabel(xlabel)\n",
        "  ax.set_ylim(range); ax.set_ylabel(ylabel)\n",
        "\n",
        "  ax.legend(bbox_to_anchor=(1.04, 0.5), loc=\"center left\", frameon=False)\n",
        "  ax.set_title(title)\n",
        "  plt.show()"
      ]
    },
    {
      "cell_type": "markdown",
      "metadata": {
        "id": "PbRXeN3wwpxL"
      },
      "source": [
        "## 1. Get the data\n",
        "\n",
        "### 1.1: Get the data file"
      ]
    },
    {
      "cell_type": "code",
      "execution_count": null,
      "metadata": {
        "colab": {
          "base_uri": "https://localhost:8080/"
        },
        "id": "fhhbyFaU4Rts",
        "outputId": "e563cbaf-cd3d-4769-c5ca-1c189c49b57a"
      },
      "outputs": [
        {
          "name": "stdout",
          "output_type": "stream",
          "text": [
            "Mounted at /content/gdrive\n"
          ]
        }
      ],
      "source": [
        "# mounting Google Drive\n",
        "from google.colab import drive\n",
        "drive.mount('/content/gdrive')"
      ]
    },
    {
      "cell_type": "code",
      "execution_count": null,
      "metadata": {
        "id": "KsSPd6ME5Y_R"
      },
      "outputs": [],
      "source": [
        "# path to the file on Google Drive\n",
        "folder = \"/content/gdrive/MyDrive/aims_2425/intro_ml/assignments/ml_a3/\"\n",
        "\n",
        "train_set = pd.read_csv(folder + \"ml_a3_data_train.csv\")\n",
        "test_set = pd.read_csv(folder + \"ml_a3_data_test.csv\")"
      ]
    },
    {
      "cell_type": "markdown",
      "metadata": {
        "id": "7Sr1ktEXxya3"
      },
      "source": [
        "- How many samples are there in each? Write a full sentence to express your answer.\n",
        "\n",
        "> There are `320 samples ` in the `train` set and `80 samples` in the `test` set.\n",
        "\n",
        "- What is the name of the column containing the labels? What are the class values?\n",
        "\n",
        "> The name of the column containing the labels is `class`, the values for the class are `0` or `1`."
      ]
    },
    {
      "cell_type": "code",
      "execution_count": null,
      "metadata": {
        "colab": {
          "base_uri": "https://localhost:8080/",
          "height": 258
        },
        "id": "6GODWEvcyB1P",
        "outputId": "57cee640-5fdb-44c7-ce05-97791f35737d"
      },
      "outputs": [
        {
          "name": "stdout",
          "output_type": "stream",
          "text": [
            "There are 320 samples in the train set and 80 samples in the test set \n",
            "The dataset contains 3 columns : Index(['x1', 'x2', 'class'], dtype='object')\n",
            "The class values are : [0 1]\n"
          ]
        },
        {
          "data": {
            "application/vnd.google.colaboratory.intrinsic+json": {
              "summary": "{\n  \"name\": \"train_set\",\n  \"rows\": 320,\n  \"fields\": [\n    {\n      \"column\": \"x1\",\n      \"properties\": {\n        \"dtype\": \"number\",\n        \"std\": 3.614816337671231,\n        \"min\": -5.940720228787084,\n        \"max\": 5.992964709248,\n        \"num_unique_values\": 320,\n        \"samples\": [\n          -0.5934703762788782,\n          5.631630427429187,\n          5.692737691993997\n        ],\n        \"semantic_type\": \"\",\n        \"description\": \"\"\n      }\n    },\n    {\n      \"column\": \"x2\",\n      \"properties\": {\n        \"dtype\": \"number\",\n        \"std\": 3.4830297555395147,\n        \"min\": -5.944415723944766,\n        \"max\": 5.996612079433568,\n        \"num_unique_values\": 320,\n        \"samples\": [\n          -4.45008701818206,\n          0.2771741300417858,\n          5.834528933755234\n        ],\n        \"semantic_type\": \"\",\n        \"description\": \"\"\n      }\n    },\n    {\n      \"column\": \"class\",\n      \"properties\": {\n        \"dtype\": \"number\",\n        \"std\": 0,\n        \"min\": 0,\n        \"max\": 1,\n        \"num_unique_values\": 2,\n        \"samples\": [\n          1,\n          0\n        ],\n        \"semantic_type\": \"\",\n        \"description\": \"\"\n      }\n    }\n  ]\n}",
              "type": "dataframe",
              "variable_name": "train_set"
            },
            "text/html": [
              "\n",
              "  <div id=\"df-0f903b51-c811-49fd-b68e-953d875faf0c\" class=\"colab-df-container\">\n",
              "    <div>\n",
              "<style scoped>\n",
              "    .dataframe tbody tr th:only-of-type {\n",
              "        vertical-align: middle;\n",
              "    }\n",
              "\n",
              "    .dataframe tbody tr th {\n",
              "        vertical-align: top;\n",
              "    }\n",
              "\n",
              "    .dataframe thead th {\n",
              "        text-align: right;\n",
              "    }\n",
              "</style>\n",
              "<table border=\"1\" class=\"dataframe\">\n",
              "  <thead>\n",
              "    <tr style=\"text-align: right;\">\n",
              "      <th></th>\n",
              "      <th>x1</th>\n",
              "      <th>x2</th>\n",
              "      <th>class</th>\n",
              "    </tr>\n",
              "  </thead>\n",
              "  <tbody>\n",
              "    <tr>\n",
              "      <th>0</th>\n",
              "      <td>-0.136282</td>\n",
              "      <td>3.244889</td>\n",
              "      <td>0</td>\n",
              "    </tr>\n",
              "    <tr>\n",
              "      <th>1</th>\n",
              "      <td>-5.305888</td>\n",
              "      <td>5.629232</td>\n",
              "      <td>0</td>\n",
              "    </tr>\n",
              "    <tr>\n",
              "      <th>2</th>\n",
              "      <td>-4.147647</td>\n",
              "      <td>-0.226319</td>\n",
              "      <td>1</td>\n",
              "    </tr>\n",
              "    <tr>\n",
              "      <th>3</th>\n",
              "      <td>-2.170794</td>\n",
              "      <td>3.946986</td>\n",
              "      <td>0</td>\n",
              "    </tr>\n",
              "    <tr>\n",
              "      <th>4</th>\n",
              "      <td>-5.555908</td>\n",
              "      <td>1.155239</td>\n",
              "      <td>0</td>\n",
              "    </tr>\n",
              "  </tbody>\n",
              "</table>\n",
              "</div>\n",
              "    <div class=\"colab-df-buttons\">\n",
              "\n",
              "  <div class=\"colab-df-container\">\n",
              "    <button class=\"colab-df-convert\" onclick=\"convertToInteractive('df-0f903b51-c811-49fd-b68e-953d875faf0c')\"\n",
              "            title=\"Convert this dataframe to an interactive table.\"\n",
              "            style=\"display:none;\">\n",
              "\n",
              "  <svg xmlns=\"http://www.w3.org/2000/svg\" height=\"24px\" viewBox=\"0 -960 960 960\">\n",
              "    <path d=\"M120-120v-720h720v720H120Zm60-500h600v-160H180v160Zm220 220h160v-160H400v160Zm0 220h160v-160H400v160ZM180-400h160v-160H180v160Zm440 0h160v-160H620v160ZM180-180h160v-160H180v160Zm440 0h160v-160H620v160Z\"/>\n",
              "  </svg>\n",
              "    </button>\n",
              "\n",
              "  <style>\n",
              "    .colab-df-container {\n",
              "      display:flex;\n",
              "      gap: 12px;\n",
              "    }\n",
              "\n",
              "    .colab-df-convert {\n",
              "      background-color: #E8F0FE;\n",
              "      border: none;\n",
              "      border-radius: 50%;\n",
              "      cursor: pointer;\n",
              "      display: none;\n",
              "      fill: #1967D2;\n",
              "      height: 32px;\n",
              "      padding: 0 0 0 0;\n",
              "      width: 32px;\n",
              "    }\n",
              "\n",
              "    .colab-df-convert:hover {\n",
              "      background-color: #E2EBFA;\n",
              "      box-shadow: 0px 1px 2px rgba(60, 64, 67, 0.3), 0px 1px 3px 1px rgba(60, 64, 67, 0.15);\n",
              "      fill: #174EA6;\n",
              "    }\n",
              "\n",
              "    .colab-df-buttons div {\n",
              "      margin-bottom: 4px;\n",
              "    }\n",
              "\n",
              "    [theme=dark] .colab-df-convert {\n",
              "      background-color: #3B4455;\n",
              "      fill: #D2E3FC;\n",
              "    }\n",
              "\n",
              "    [theme=dark] .colab-df-convert:hover {\n",
              "      background-color: #434B5C;\n",
              "      box-shadow: 0px 1px 3px 1px rgba(0, 0, 0, 0.15);\n",
              "      filter: drop-shadow(0px 1px 2px rgba(0, 0, 0, 0.3));\n",
              "      fill: #FFFFFF;\n",
              "    }\n",
              "  </style>\n",
              "\n",
              "    <script>\n",
              "      const buttonEl =\n",
              "        document.querySelector('#df-0f903b51-c811-49fd-b68e-953d875faf0c button.colab-df-convert');\n",
              "      buttonEl.style.display =\n",
              "        google.colab.kernel.accessAllowed ? 'block' : 'none';\n",
              "\n",
              "      async function convertToInteractive(key) {\n",
              "        const element = document.querySelector('#df-0f903b51-c811-49fd-b68e-953d875faf0c');\n",
              "        const dataTable =\n",
              "          await google.colab.kernel.invokeFunction('convertToInteractive',\n",
              "                                                    [key], {});\n",
              "        if (!dataTable) return;\n",
              "\n",
              "        const docLinkHtml = 'Like what you see? Visit the ' +\n",
              "          '<a target=\"_blank\" href=https://colab.research.google.com/notebooks/data_table.ipynb>data table notebook</a>'\n",
              "          + ' to learn more about interactive tables.';\n",
              "        element.innerHTML = '';\n",
              "        dataTable['output_type'] = 'display_data';\n",
              "        await google.colab.output.renderOutput(dataTable, element);\n",
              "        const docLink = document.createElement('div');\n",
              "        docLink.innerHTML = docLinkHtml;\n",
              "        element.appendChild(docLink);\n",
              "      }\n",
              "    </script>\n",
              "  </div>\n",
              "\n",
              "\n",
              "<div id=\"df-607e209f-f993-4e8a-84b8-fbd5ecc9a942\">\n",
              "  <button class=\"colab-df-quickchart\" onclick=\"quickchart('df-607e209f-f993-4e8a-84b8-fbd5ecc9a942')\"\n",
              "            title=\"Suggest charts\"\n",
              "            style=\"display:none;\">\n",
              "\n",
              "<svg xmlns=\"http://www.w3.org/2000/svg\" height=\"24px\"viewBox=\"0 0 24 24\"\n",
              "     width=\"24px\">\n",
              "    <g>\n",
              "        <path d=\"M19 3H5c-1.1 0-2 .9-2 2v14c0 1.1.9 2 2 2h14c1.1 0 2-.9 2-2V5c0-1.1-.9-2-2-2zM9 17H7v-7h2v7zm4 0h-2V7h2v10zm4 0h-2v-4h2v4z\"/>\n",
              "    </g>\n",
              "</svg>\n",
              "  </button>\n",
              "\n",
              "<style>\n",
              "  .colab-df-quickchart {\n",
              "      --bg-color: #E8F0FE;\n",
              "      --fill-color: #1967D2;\n",
              "      --hover-bg-color: #E2EBFA;\n",
              "      --hover-fill-color: #174EA6;\n",
              "      --disabled-fill-color: #AAA;\n",
              "      --disabled-bg-color: #DDD;\n",
              "  }\n",
              "\n",
              "  [theme=dark] .colab-df-quickchart {\n",
              "      --bg-color: #3B4455;\n",
              "      --fill-color: #D2E3FC;\n",
              "      --hover-bg-color: #434B5C;\n",
              "      --hover-fill-color: #FFFFFF;\n",
              "      --disabled-bg-color: #3B4455;\n",
              "      --disabled-fill-color: #666;\n",
              "  }\n",
              "\n",
              "  .colab-df-quickchart {\n",
              "    background-color: var(--bg-color);\n",
              "    border: none;\n",
              "    border-radius: 50%;\n",
              "    cursor: pointer;\n",
              "    display: none;\n",
              "    fill: var(--fill-color);\n",
              "    height: 32px;\n",
              "    padding: 0;\n",
              "    width: 32px;\n",
              "  }\n",
              "\n",
              "  .colab-df-quickchart:hover {\n",
              "    background-color: var(--hover-bg-color);\n",
              "    box-shadow: 0 1px 2px rgba(60, 64, 67, 0.3), 0 1px 3px 1px rgba(60, 64, 67, 0.15);\n",
              "    fill: var(--button-hover-fill-color);\n",
              "  }\n",
              "\n",
              "  .colab-df-quickchart-complete:disabled,\n",
              "  .colab-df-quickchart-complete:disabled:hover {\n",
              "    background-color: var(--disabled-bg-color);\n",
              "    fill: var(--disabled-fill-color);\n",
              "    box-shadow: none;\n",
              "  }\n",
              "\n",
              "  .colab-df-spinner {\n",
              "    border: 2px solid var(--fill-color);\n",
              "    border-color: transparent;\n",
              "    border-bottom-color: var(--fill-color);\n",
              "    animation:\n",
              "      spin 1s steps(1) infinite;\n",
              "  }\n",
              "\n",
              "  @keyframes spin {\n",
              "    0% {\n",
              "      border-color: transparent;\n",
              "      border-bottom-color: var(--fill-color);\n",
              "      border-left-color: var(--fill-color);\n",
              "    }\n",
              "    20% {\n",
              "      border-color: transparent;\n",
              "      border-left-color: var(--fill-color);\n",
              "      border-top-color: var(--fill-color);\n",
              "    }\n",
              "    30% {\n",
              "      border-color: transparent;\n",
              "      border-left-color: var(--fill-color);\n",
              "      border-top-color: var(--fill-color);\n",
              "      border-right-color: var(--fill-color);\n",
              "    }\n",
              "    40% {\n",
              "      border-color: transparent;\n",
              "      border-right-color: var(--fill-color);\n",
              "      border-top-color: var(--fill-color);\n",
              "    }\n",
              "    60% {\n",
              "      border-color: transparent;\n",
              "      border-right-color: var(--fill-color);\n",
              "    }\n",
              "    80% {\n",
              "      border-color: transparent;\n",
              "      border-right-color: var(--fill-color);\n",
              "      border-bottom-color: var(--fill-color);\n",
              "    }\n",
              "    90% {\n",
              "      border-color: transparent;\n",
              "      border-bottom-color: var(--fill-color);\n",
              "    }\n",
              "  }\n",
              "</style>\n",
              "\n",
              "  <script>\n",
              "    async function quickchart(key) {\n",
              "      const quickchartButtonEl =\n",
              "        document.querySelector('#' + key + ' button');\n",
              "      quickchartButtonEl.disabled = true;  // To prevent multiple clicks.\n",
              "      quickchartButtonEl.classList.add('colab-df-spinner');\n",
              "      try {\n",
              "        const charts = await google.colab.kernel.invokeFunction(\n",
              "            'suggestCharts', [key], {});\n",
              "      } catch (error) {\n",
              "        console.error('Error during call to suggestCharts:', error);\n",
              "      }\n",
              "      quickchartButtonEl.classList.remove('colab-df-spinner');\n",
              "      quickchartButtonEl.classList.add('colab-df-quickchart-complete');\n",
              "    }\n",
              "    (() => {\n",
              "      let quickchartButtonEl =\n",
              "        document.querySelector('#df-607e209f-f993-4e8a-84b8-fbd5ecc9a942 button');\n",
              "      quickchartButtonEl.style.display =\n",
              "        google.colab.kernel.accessAllowed ? 'block' : 'none';\n",
              "    })();\n",
              "  </script>\n",
              "</div>\n",
              "\n",
              "    </div>\n",
              "  </div>\n"
            ],
            "text/plain": [
              "         x1        x2  class\n",
              "0 -0.136282  3.244889      0\n",
              "1 -5.305888  5.629232      0\n",
              "2 -4.147647 -0.226319      1\n",
              "3 -2.170794  3.946986      0\n",
              "4 -5.555908  1.155239      0"
            ]
          },
          "execution_count": 4,
          "metadata": {},
          "output_type": "execute_result"
        }
      ],
      "source": [
        "print(f\"There are {train_set.shape[0]} samples in the train set and {test_set.shape[0]} samples in the test set \")\n",
        "print(f\"The dataset contains {train_set.shape[1]} columns : {train_set.columns}\")\n",
        "print(f\"The class values are : {train_set['class'].unique()}\")\n",
        "\n",
        "train_set.head()"
      ]
    },
    {
      "cell_type": "markdown",
      "metadata": {
        "id": "QU-akdLV1F-k"
      },
      "source": [
        "### 1.2: Split signal vs background"
      ]
    },
    {
      "cell_type": "code",
      "execution_count": null,
      "metadata": {
        "id": "WJ5yFsFd5ZCV"
      },
      "outputs": [],
      "source": [
        "# split signal and background for the train set\n",
        "sig_train = train_set[train_set['class'] == 1]\n",
        "bkg_train = train_set[train_set['class'] == 0]\n",
        "\n",
        "# split signal and background for the test set\n",
        "sig_test = test_set[test_set['class'] == 1]\n",
        "bkg_test = test_set[test_set['class'] == 0]"
      ]
    },
    {
      "cell_type": "markdown",
      "metadata": {
        "id": "lavSzLfj1hJp"
      },
      "source": [
        "### 1.3: Dataframe to NumPy"
      ]
    },
    {
      "cell_type": "code",
      "execution_count": null,
      "metadata": {
        "id": "g7Gu8gKD7ODw"
      },
      "outputs": [],
      "source": [
        "# the input features that will be used\n",
        "inputs = ['x1', 'x2']\n",
        "\n",
        "# X_train to contain the input features as numpy array\n",
        "# y_train to contain the target as numpy array\n",
        "X_train = train_set[inputs].to_numpy()\n",
        "y_train = train_set[\"class\"].to_numpy()\n",
        "\n",
        "# same process for the test\n",
        "X_test = test_set[inputs].to_numpy()\n",
        "y_test = test_set[\"class\"].to_numpy()"
      ]
    },
    {
      "cell_type": "markdown",
      "metadata": {
        "id": "BjsUxgsh2-_J"
      },
      "source": [
        "## 2. Functions"
      ]
    },
    {
      "cell_type": "markdown",
      "metadata": {
        "id": "r1_0mzH_3H9W"
      },
      "source": [
        "### 2.1: Weighted Sum"
      ]
    },
    {
      "cell_type": "code",
      "execution_count": null,
      "metadata": {
        "id": "TAQ-_flK8TJL"
      },
      "outputs": [],
      "source": [
        "# weighted performed as matrix operations : multiplication and addition\n",
        "def z( weights , inputs , biases ):\n",
        "    return (weights.T)@inputs+biases"
      ]
    },
    {
      "cell_type": "markdown",
      "metadata": {
        "id": "o1mbZqXm5uQj"
      },
      "source": [
        "### 2.2: Activation Functions and Derivatives"
      ]
    },
    {
      "cell_type": "code",
      "execution_count": null,
      "metadata": {
        "id": "WtpPnCpU8uxn"
      },
      "outputs": [],
      "source": [
        "# hypebolic tangent : activation function of the 2 hidden layers\n",
        "def tanh(z):\n",
        "    return (np.exp(z)-np.exp(-z))/(np.exp(z)+np.exp(-z))\n",
        "\n",
        "# sigmoid : activation function of the last layer\n",
        "def sigmoid(z):\n",
        "    return 1/(1+np.exp(-z))\n",
        "\n",
        "# derivative of the sigmoid\n",
        "def sigmoid_prime(z):\n",
        "    return sigmoid(z)*(1-sigmoid(z))\n",
        "\n",
        "# derivative of the tanh function\n",
        "def tanh_prime(z):\n",
        "    return 1-(tanh(z)**2)"
      ]
    },
    {
      "cell_type": "markdown",
      "metadata": {
        "id": "KYyEO3bJ6cJg"
      },
      "source": [
        "### 2.3: Cross-entropy cost function"
      ]
    },
    {
      "cell_type": "code",
      "execution_count": null,
      "metadata": {
        "id": "v69xiTh8-x3l"
      },
      "outputs": [],
      "source": [
        "# compute the cost function\n",
        "def cross_entropy_cost(y_preds, y_vals):\n",
        "    losses = y_vals*np.log(y_preds)+(1-y_vals)*np.log(1-y_preds)\n",
        "    return (-1/y_preds.shape[0])*np.sum(losses)"
      ]
    },
    {
      "cell_type": "markdown",
      "metadata": {
        "id": "tCjs6LkC6u91"
      },
      "source": [
        "### 2.4: Derivative of the Loss\n",
        "\n",
        "Loss function for classification is defined as :\n",
        "\n",
        "$$L(\\hat y^{(i)},y) = -[y^{(i)} log(\\hat y^{(i)})+(1-y^{(i)}) log(1 - \\hat y^{(i)})]$$\n",
        "\n",
        "The derivative of that function is :\n",
        "$$\\frac{d L(\\hat y^{(i)},y)}{d \\hat y^{(i)}} = -[y^{(i)} \\frac{d(log(\\hat y^{(i)}))}{d \\hat y^{(i)}} +(1-y^{(i)}) \\frac{d(log(1 - \\hat y^{(i)}))}{d \\hat y^{(i)}}] $$\n",
        "\n",
        "$$\\frac{d L(\\hat y^{(i)},y)}{d \\hat y^{(i)}} = -[y^{(i)} \\frac{1}{\\hat y^{(i)}} +(1-y^{(i)}) \\frac{-1}{1- \\hat y^{(i)}}] $$\n",
        "\n",
        "$$\\frac{d L(\\hat y^{(i)},y)}{d \\hat y^{(i)}} =  \\frac{-y^{(i)}}{\\hat y^{(i)}} + \\frac{1-y^{(i)}}{1- \\hat y^{(i)}} $$"
      ]
    },
    {
      "cell_type": "code",
      "execution_count": null,
      "metadata": {
        "id": "5tv4E6mf4YXS"
      },
      "outputs": [],
      "source": [
        "# compute the derivative of the loss function according to the formula above\n",
        "def L_prime(y_preds, y_obs):\n",
        "    return -(y_obs/y_preds)+((1-y_obs)/(1-y_preds))"
      ]
    },
    {
      "cell_type": "markdown",
      "metadata": {
        "id": "viEdX1qXCNtz"
      },
      "source": [
        "## 3. Feedforward"
      ]
    },
    {
      "cell_type": "markdown",
      "metadata": {
        "id": "O-_1TGvHCQA-"
      },
      "source": [
        "### 3.1: Feedforward Propagation"
      ]
    },
    {
      "cell_type": "code",
      "execution_count": null,
      "metadata": {
        "id": "HWQaUaHCE5Cq"
      },
      "outputs": [],
      "source": [
        "# compute the feed forward\n",
        "def feedforward(input_X, weights, biases):\n",
        "\n",
        "  W1, W2, W3 = weights ; b1, b2, b3 = biases\n",
        "\n",
        "  m  = len(input_X)\n",
        "  a0 = input_X.reshape ((m, -1, 1))\n",
        "\n",
        "  # First layer\n",
        "  z1 = z(W1,a0,b1)\n",
        "  a1 = tanh(z1)\n",
        "\n",
        "  # Second layer\n",
        "  z2 = z(W2,a1,b2)\n",
        "  a2 = tanh(z2)\n",
        "\n",
        "  # Third layer\n",
        "  z3 = z(W3,a2,b3)\n",
        "  a3 = sigmoid(z3)\n",
        "\n",
        "  nodes = [a0, z1, a1, z2, a2, z3, a3]\n",
        "\n",
        "  return nodes"
      ]
    },
    {
      "cell_type": "markdown",
      "metadata": {
        "id": "KAsQ2C2eCYfh"
      },
      "source": [
        "### 3.2: Predict\n",
        "\n",
        "- What is the <font color=\"#E83E8C\"> output_node </font> in the context of our 2-hidden-layered neural network?\n",
        "> The **output node** is `a3`, its values range between 0 to 1 (as a result of the sigmoid function )\n",
        "\n",
        "- What type of values does the function <font color=\"#E83E8C\"> predict  </font> return?\n",
        "> The **predict** function returns binary values : either 0 or 1\n",
        "\n",
        "- After successfully executing the <font color=\"#E83E8C\"> feedforward </font> function, how would you call the function <font color=\"#E83E8C\"> predict </font> ?\n",
        "> After successfully executing the feedforward, I will call predict passing the **output node** as argument :   \n",
        "\n",
        "```python\n",
        "output = feedforward(input_X, [W1,W2,W3], [b1,b2,b3])[-1] # getting only output node\n",
        "predictions = predict(output, 0.5) # take boundary value as 0.5\n",
        "```\n"
      ]
    },
    {
      "cell_type": "markdown",
      "metadata": {
        "id": "qJ2S1kYmHola"
      },
      "source": [
        "## 4. Neural Network Training"
      ]
    },
    {
      "cell_type": "code",
      "execution_count": null,
      "metadata": {
        "colab": {
          "base_uri": "https://localhost:8080/"
        },
        "id": "ctHiGhpmJM6z",
        "outputId": "98b5e970-b802-490d-f461-609e85261421"
      },
      "outputs": [
        {
          "name": "stdout",
          "output_type": "stream",
          "text": [
            "Starting the training\n",
            "\n",
            "Iteration 10\t Train cost = 0.6981  Test cost = 0.7350   Diff = 0.03688\n",
            "Iteration 20\t Train cost = 0.6915  Test cost = 0.7247   Diff = 0.03312\n",
            "Iteration 30\t Train cost = 0.6855  Test cost = 0.7158   Diff = 0.03028\n",
            "Iteration 40\t Train cost = 0.6795  Test cost = 0.7079   Diff = 0.02840\n",
            "Iteration 50\t Train cost = 0.6730  Test cost = 0.7007   Diff = 0.02761\n",
            "Iteration 60\t Train cost = 0.6654  Test cost = 0.6934   Diff = 0.02799\n",
            "Iteration 70\t Train cost = 0.6566  Test cost = 0.6858   Diff = 0.02924\n",
            "Iteration 80\t Train cost = 0.6473  Test cost = 0.6779   Diff = 0.03061\n",
            "Iteration 90\t Train cost = 0.6383  Test cost = 0.6699   Diff = 0.03154\n",
            "Iteration 100\t Train cost = 0.6301  Test cost = 0.6620   Diff = 0.03195\n",
            "Iteration 200\t Train cost = 0.5642  Test cost = 0.5898   Diff = 0.02557\n",
            "Iteration 300\t Train cost = 0.5035  Test cost = 0.5179   Diff = 0.01443\n",
            "Iteration 400\t Train cost = 0.4419  Test cost = 0.4447   Diff = 0.00284\n",
            "Iteration 500\t Train cost = 0.3860  Test cost = 0.3794   Diff = -0.00654\n",
            "Iteration 600\t Train cost = 0.3406  Test cost = 0.3277   Diff = -0.01294\n",
            "Iteration 700\t Train cost = 0.3054  Test cost = 0.2877   Diff = -0.01766\n",
            "Iteration 800\t Train cost = 0.2773  Test cost = 0.2558   Diff = -0.02146\n",
            "Iteration 900\t Train cost = 0.2540  Test cost = 0.2295   Diff = -0.02448\n",
            "Iteration 1000\t Train cost = 0.2338  Test cost = 0.2071   Diff = -0.02666\n",
            "Iteration 1100\t Train cost = 0.2156  Test cost = 0.1875   Diff = -0.02811\n",
            "Iteration 1200\t Train cost = 0.1990  Test cost = 0.1700   Diff = -0.02898\n",
            "Iteration 1300\t Train cost = 0.1835  Test cost = 0.1541   Diff = -0.02938\n",
            "Iteration 1400\t Train cost = 0.1690  Test cost = 0.1396   Diff = -0.02938\n",
            "Iteration 1500\t Train cost = 0.1554  Test cost = 0.1264   Diff = -0.02899\n",
            "Iteration 1600\t Train cost = 0.1430  Test cost = 0.1148   Diff = -0.02828\n",
            "Iteration 1700\t Train cost = 0.1320  Test cost = 0.1046   Diff = -0.02741\n",
            "Iteration 1800\t Train cost = 0.1222  Test cost = 0.0957   Diff = -0.02644\n",
            "Iteration 1900\t Train cost = 0.1134  Test cost = 0.0881   Diff = -0.02536\n",
            "Iteration 2000\t Train cost = 0.1055  Test cost = 0.0813   Diff = -0.02414\n",
            "Iteration 2100\t Train cost = 0.0982  Test cost = 0.0754   Diff = -0.02275\n",
            "Iteration 2200\t Train cost = 0.0914  Test cost = 0.0702   Diff = -0.02119\n",
            "Iteration 2300\t Train cost = 0.0850  Test cost = 0.0655   Diff = -0.01951\n",
            "Iteration 2400\t Train cost = 0.0791  Test cost = 0.0613   Diff = -0.01777\n",
            "Iteration 2500\t Train cost = 0.0736  Test cost = 0.0575   Diff = -0.01608\n",
            "Iteration 2600\t Train cost = 0.0685  Test cost = 0.0540   Diff = -0.01452\n",
            "Iteration 2700\t Train cost = 0.0640  Test cost = 0.0509   Diff = -0.01313\n",
            "Iteration 2800\t Train cost = 0.0600  Test cost = 0.0480   Diff = -0.01192\n",
            "Iteration 2900\t Train cost = 0.0564  Test cost = 0.0455   Diff = -0.01089\n",
            "Iteration 3000\t Train cost = 0.0532  Test cost = 0.0432   Diff = -0.01001\n",
            "Iteration 3100\t Train cost = 0.0503  Test cost = 0.0411   Diff = -0.00926\n",
            "Iteration 3200\t Train cost = 0.0478  Test cost = 0.0392   Diff = -0.00861\n",
            "Iteration 3300\t Train cost = 0.0455  Test cost = 0.0375   Diff = -0.00804\n",
            "Iteration 3400\t Train cost = 0.0434  Test cost = 0.0359   Diff = -0.00756\n",
            "Iteration 3500\t Train cost = 0.0416  Test cost = 0.0344   Diff = -0.00713\n",
            "Iteration 3600\t Train cost = 0.0399  Test cost = 0.0331   Diff = -0.00675\n",
            "Iteration 3700\t Train cost = 0.0383  Test cost = 0.0319   Diff = -0.00641\n",
            "Iteration 3800\t Train cost = 0.0369  Test cost = 0.0308   Diff = -0.00610\n",
            "Iteration 3900\t Train cost = 0.0356  Test cost = 0.0297   Diff = -0.00583\n",
            "Iteration 4000\t Train cost = 0.0343  Test cost = 0.0287   Diff = -0.00558\n",
            "Iteration 4100\t Train cost = 0.0332  Test cost = 0.0278   Diff = -0.00536\n",
            "Iteration 4200\t Train cost = 0.0321  Test cost = 0.0270   Diff = -0.00515\n",
            "Iteration 4300\t Train cost = 0.0311  Test cost = 0.0262   Diff = -0.00496\n",
            "Iteration 4400\t Train cost = 0.0302  Test cost = 0.0254   Diff = -0.00478\n",
            "Iteration 4500\t Train cost = 0.0293  Test cost = 0.0247   Diff = -0.00462\n",
            "Iteration 4600\t Train cost = 0.0285  Test cost = 0.0240   Diff = -0.00447\n",
            "Iteration 4700\t Train cost = 0.0277  Test cost = 0.0234   Diff = -0.00432\n",
            "Iteration 4800\t Train cost = 0.0270  Test cost = 0.0228   Diff = -0.00419\n",
            "Iteration 4900\t Train cost = 0.0263  Test cost = 0.0222   Diff = -0.00407\n",
            "Iteration 5000\t Train cost = 0.0256  Test cost = 0.0217   Diff = -0.00395\n",
            "Iteration 5100\t Train cost = 0.0250  Test cost = 0.0212   Diff = -0.00384\n",
            "Iteration 5200\t Train cost = 0.0244  Test cost = 0.0207   Diff = -0.00373\n",
            "Iteration 5300\t Train cost = 0.0238  Test cost = 0.0202   Diff = -0.00363\n",
            "Iteration 5400\t Train cost = 0.0233  Test cost = 0.0198   Diff = -0.00354\n",
            "Iteration 5500\t Train cost = 0.0228  Test cost = 0.0193   Diff = -0.00345\n",
            "Iteration 5600\t Train cost = 0.0223  Test cost = 0.0189   Diff = -0.00337\n",
            "Iteration 5700\t Train cost = 0.0218  Test cost = 0.0185   Diff = -0.00329\n",
            "Iteration 5800\t Train cost = 0.0214  Test cost = 0.0182   Diff = -0.00321\n",
            "Iteration 5900\t Train cost = 0.0209  Test cost = 0.0178   Diff = -0.00313\n",
            "Iteration 6000\t Train cost = 0.0205  Test cost = 0.0174   Diff = -0.00306\n",
            "Iteration 6100\t Train cost = 0.0201  Test cost = 0.0171   Diff = -0.00300\n",
            "Iteration 6200\t Train cost = 0.0197  Test cost = 0.0168   Diff = -0.00293\n",
            "Iteration 6300\t Train cost = 0.0193  Test cost = 0.0165   Diff = -0.00287\n",
            "Iteration 6400\t Train cost = 0.0190  Test cost = 0.0162   Diff = -0.00281\n",
            "Iteration 6500\t Train cost = 0.0186  Test cost = 0.0159   Diff = -0.00275\n",
            "Iteration 6600\t Train cost = 0.0183  Test cost = 0.0156   Diff = -0.00270\n",
            "Iteration 6700\t Train cost = 0.0180  Test cost = 0.0153   Diff = -0.00265\n",
            "Iteration 6800\t Train cost = 0.0177  Test cost = 0.0151   Diff = -0.00260\n",
            "Iteration 6900\t Train cost = 0.0174  Test cost = 0.0148   Diff = -0.00255\n",
            "Iteration 7000\t Train cost = 0.0171  Test cost = 0.0146   Diff = -0.00250\n",
            "Iteration 7100\t Train cost = 0.0168  Test cost = 0.0144   Diff = -0.00245\n",
            "Iteration 7200\t Train cost = 0.0165  Test cost = 0.0141   Diff = -0.00241\n",
            "Iteration 7300\t Train cost = 0.0163  Test cost = 0.0139   Diff = -0.00237\n",
            "Iteration 7400\t Train cost = 0.0160  Test cost = 0.0137   Diff = -0.00233\n",
            "Iteration 7500\t Train cost = 0.0158  Test cost = 0.0135   Diff = -0.00229\n",
            "Iteration 7600\t Train cost = 0.0155  Test cost = 0.0133   Diff = -0.00225\n",
            "Iteration 7700\t Train cost = 0.0153  Test cost = 0.0131   Diff = -0.00221\n",
            "Iteration 7800\t Train cost = 0.0151  Test cost = 0.0129   Diff = -0.00217\n",
            "Iteration 7900\t Train cost = 0.0149  Test cost = 0.0127   Diff = -0.00214\n",
            "Iteration 8000\t Train cost = 0.0147  Test cost = 0.0125   Diff = -0.00211\n",
            "Iteration 8100\t Train cost = 0.0144  Test cost = 0.0124   Diff = -0.00207\n",
            "Iteration 8200\t Train cost = 0.0142  Test cost = 0.0122   Diff = -0.00204\n",
            "Iteration 8300\t Train cost = 0.0141  Test cost = 0.0120   Diff = -0.00201\n",
            "Iteration 8400\t Train cost = 0.0139  Test cost = 0.0119   Diff = -0.00198\n",
            "Iteration 8500\t Train cost = 0.0137  Test cost = 0.0117   Diff = -0.00195\n",
            "Iteration 8600\t Train cost = 0.0135  Test cost = 0.0116   Diff = -0.00192\n",
            "Iteration 8700\t Train cost = 0.0133  Test cost = 0.0114   Diff = -0.00189\n",
            "Iteration 8800\t Train cost = 0.0131  Test cost = 0.0113   Diff = -0.00187\n",
            "Iteration 8900\t Train cost = 0.0130  Test cost = 0.0111   Diff = -0.00184\n",
            "Iteration 9000\t Train cost = 0.0128  Test cost = 0.0110   Diff = -0.00181\n",
            "Iteration 9100\t Train cost = 0.0127  Test cost = 0.0109   Diff = -0.00179\n",
            "Iteration 9200\t Train cost = 0.0125  Test cost = 0.0107   Diff = -0.00177\n",
            "Iteration 9300\t Train cost = 0.0124  Test cost = 0.0106   Diff = -0.00174\n",
            "Iteration 9400\t Train cost = 0.0122  Test cost = 0.0105   Diff = -0.00172\n",
            "Iteration 9500\t Train cost = 0.0121  Test cost = 0.0104   Diff = -0.00170\n",
            "Iteration 9600\t Train cost = 0.0119  Test cost = 0.0102   Diff = -0.00167\n",
            "Iteration 9700\t Train cost = 0.0118  Test cost = 0.0101   Diff = -0.00165\n",
            "Iteration 9800\t Train cost = 0.0117  Test cost = 0.0100   Diff = -0.00163\n",
            "Iteration 9900\t Train cost = 0.0115  Test cost = 0.0099   Diff = -0.00161\n",
            "Iteration 10000\t Train cost = 0.0114  Test cost = 0.0098   Diff = -0.00159\n",
            "\n",
            "End of gradient descent after 10000 iterations\n"
          ]
        }
      ],
      "source": [
        "# Hyperparameters\n",
        "alpha = 0.03\n",
        "N = 10000 # epochs\n",
        "\n",
        "# Initialization\n",
        "m = len(X_train)     # number of data samples\n",
        "n = X_train.shape[1] # number of input features\n",
        "q = 3 # number of nodes in first hidden layer\n",
        "r = 2 # number of nodes in second hidden layer\n",
        "\n",
        "# sigmas to initialize the weights based on Normal Xavier initialization\n",
        "sigma1,sigma2,sigma3 = np.sqrt(2/(n+q)), np.sqrt(2/(q+1+2)), np.sqrt(2/(r+2))\n",
        "# WEIGHT MATRICES + BIASES\n",
        "W1 =  np.random.normal(0,sigma1,size=(n,q)) # Xavier initialization\n",
        "W2 =  np.random.normal(0,sigma2,size=(q,r))\n",
        "W3 =  np.random.normal(0,sigma3,size=(r,1))\n",
        "b1 =  np.random.randn(q , 1 ) # initialization from a normal distribution\n",
        "b2 =  np.random.randn(r , 1 )\n",
        "b3 =  np.random.randn(1 , 1 )\n",
        "\n",
        "\n",
        "# OUTPUT LAYER\n",
        "y_train = np.reshape(y_train, (-1, 1, 1))\n",
        "y_test  = np.reshape(y_test , (-1, 1, 1))\n",
        "\n",
        "# Storing cost values for train and test datasets\n",
        "costs_train = []\n",
        "costs_test  = []\n",
        "debug = False\n",
        "\n",
        "print(\"Starting the training\\n\")\n",
        "\n",
        "# -------------------\n",
        "#   Start iterations\n",
        "# -------------------\n",
        "for t in range(1, N+1):\n",
        "\n",
        "  # FORWARD PROPAGATION\n",
        "  # Feedforward on test data:\n",
        "  nodes_test =  feedforward(X_test,[W1,W2,W3],[b1,b2,b3])\n",
        "  ypreds_test =  nodes_test[-1]\n",
        "\n",
        "  # Feedforward on train data:\n",
        "  a0, z1, a1, z2, a2, z3, a3 = feedforward(X_train,[W1,W2,W3],[b1,b2,b3])\n",
        "  ypreds_train =  a3\n",
        "\n",
        "  # Cost computation and storage\n",
        "  J_train = cross_entropy_cost(ypreds_train, y_train)\n",
        "  J_test  = cross_entropy_cost(ypreds_test,  y_test )\n",
        "  costs_train.append(J_train)\n",
        "  costs_test.append(J_test)\n",
        "\n",
        "  if (t<=100 and t % 10 == 0) or (t>100 and t % 100 == 0):\n",
        "      print(f\"Iteration {t}\\t Train cost = {J_train:.4f}  Test cost = {J_test:.4f}   Diff = {J_test-J_train:.5f}\")\n",
        "\n",
        "\n",
        "  # BACKWARD PROPAGATION\n",
        "  # Errors delta:\n",
        "  delta_3 = sigmoid_prime(z3) * L_prime(ypreds_train,y_train)\n",
        "  delta_2 = tanh_prime(z2) * (W3@delta_3)\n",
        "  delta_1 = tanh_prime(z1) * (W2@delta_2)\n",
        "\n",
        "  # Partial derivatives:\n",
        "  # np.transpose(delta, (0, 2, 1)) transposes delta to be able to perform the outer product : a*delta\n",
        "  dCostdW3 = (1/m) * np.sum(a2@np.transpose(delta_3, (0, 2, 1)),axis=0)\n",
        "  dCostdW2 = (1/m) * np.sum(a1@np.transpose(delta_2, (0, 2, 1)),axis=0)\n",
        "  dCostdW1 = (1/m) * np.sum(a0@np.transpose(delta_1, (0, 2, 1)),axis=0)\n",
        "  dCostdb3 = (1/m) * np.sum(delta_3,axis=0)\n",
        "  dCostdb2 = (1/m) * np.sum(delta_2,axis=0)\n",
        "  dCostdb1 = (1/m) * np.sum(delta_1,axis=0)\n",
        "\n",
        "  if debug and t<3:\n",
        "    print(f\"a0: {a0.shape} a1: {a1.shape} a2: {a2.shape} a3: {a3.shape} \")\n",
        "    print(f\"W3: {W3.shape} z1: {z1.shape} z2: {z2.shape} z3: {z3.shape} \")\n",
        "    print(f\"dCostdW3: {dCostdW3.shape} dCostdW2: {dCostdW2.shape} dCostdW1: {dCostdW1.shape}\")\n",
        "\n",
        "  # Update of weights and biases\n",
        "  W3 = W3 - alpha*dCostdW3\n",
        "  W2 = W2 - alpha*dCostdW2\n",
        "  W1 = W1 - alpha*dCostdW1\n",
        "  b3 = b3 - alpha*dCostdb3\n",
        "  b2 = b2 - alpha*dCostdb2\n",
        "  b1 = b1 - alpha*dCostdb1\n",
        "\n",
        "print(f'\\nEnd of gradient descent after {t} iterations')"
      ]
    },
    {
      "cell_type": "markdown",
      "metadata": {
        "id": "Hr02jmqbH3Qq"
      },
      "source": [
        "## 5. Plots"
      ]
    },
    {
      "cell_type": "markdown",
      "metadata": {
        "id": "r68eLu5XH5cT"
      },
      "source": [
        "### 5.1: Cost evolution"
      ]
    },
    {
      "cell_type": "code",
      "execution_count": null,
      "metadata": {
        "colab": {
          "base_uri": "https://localhost:8080/",
          "height": 609
        },
        "id": "LvHvqM3In_zN",
        "outputId": "7e836fbc-0b1a-4fdf-fe41-a4e1d4c90456"
      },
      "outputs": [
        {
          "data": {
            "image/png": "[encoded data removed]",
            "text/plain": [
              "<Figure size 800x600 with 1 Axes>"
            ]
          },
          "metadata": {},
          "output_type": "display_data"
        }
      ],
      "source": [
        "# plot the cost evolution of both the training and the testing sets\n",
        "plot_cost_vs_iter(costs_train,costs_test)"
      ]
    },
    {
      "cell_type": "markdown",
      "metadata": {
        "id": "KXqXPk__INv7"
      },
      "source": [
        "### 5.2: Scatter Plot\n",
        "\n",
        "- Did your neural network successfully learn the XOR function?\n",
        "> Yes, the neural network successfully learn the XOR function, it classifies well the distinct classes ( illustration below )"
      ]
    },
    {
      "cell_type": "code",
      "execution_count": null,
      "metadata": {
        "colab": {
          "base_uri": "https://localhost:8080/",
          "height": 609
        },
        "id": "qPST7ZskXFfT",
        "outputId": "dc65ec02-740f-4b3c-84be-3b57d900f293"
      },
      "outputs": [
        {
          "data": {
            "image/png": "[encoded data removed]",
            "text/plain": [
              "<Figure size 600x600 with 1 Axes>"
            ]
          },
          "metadata": {},
          "output_type": "display_data"
        }
      ],
      "source": [
        "# get the decision surface and then plot it with the scatter plot of the training data\n",
        "ds = get_decision_surface(weights=[W1,W2,W3],biases=[b1,b2,b3])\n",
        "plot_scatter(sig_train,bkg_train,ds=ds)"
      ]
    },
    {
      "cell_type": "markdown",
      "metadata": {
        "id": "44Oroapgz1oX"
      },
      "source": [
        "# BONUS\n",
        "\n",
        "In this part, we create a general class to build fully connected neural networks. We will then test it on the same example."
      ]
    },
    {
      "cell_type": "code",
      "execution_count": null,
      "metadata": {
        "id": "cKm3lqn4z4QL"
      },
      "outputs": [],
      "source": [
        "# CLASS FOR THE NEURAL NETWORK #\n",
        "# wrap the logic above in a class for a more general fully connected neural networks #\n",
        "# This class can still be improved (a lot) (example : adding predict function) but it is already handled outside here #\n",
        "\n",
        "class NeuralNetwork():\n",
        "  def __init__(self,n_inputs,n_outputs):\n",
        "    self.weights = [] # store the different weights for the layers\n",
        "    self.biases = [] # store the biases\n",
        "    self.nodes = [] # store the number of nodes per layer\n",
        "    self.act_funcs = [] # store the activation function per layer\n",
        "    self.func_primes = [] # store the derivative of the activation function per layer\n",
        "    self.n_inputs = n_inputs # number of features\n",
        "    self.n_outputs = n_outputs # number of output nodes, what for ? checking below\n",
        "\n",
        "  # process of adding a layer\n",
        "  def add_layer(self,n_nodes,activation_func,func_prime):\n",
        "    self.nodes.append(n_nodes) # how many nodes for that layer\n",
        "    self.act_funcs.append(activation_func) # what is the activation function\n",
        "    self.func_primes.append(func_prime) # what is the derivative of that activation function\n",
        "\n",
        "\n",
        "  def forward(self,input_X):\n",
        "\n",
        "    # outputs : outputs per layer, z_sums : weighted sums per layer\n",
        "    outputs = []\n",
        "    z_sums = []\n",
        "    m  = len(input_X)\n",
        "    a0 = input_X.reshape ((m, -1, 1))\n",
        "\n",
        "    # process the input layer\n",
        "    outputs.append(a0)\n",
        "    z_sum = z(self.weights[0],a0,self.biases[0])\n",
        "    output = self.act_funcs[0](z_sum)\n",
        "    z_sums.append(z_sum)\n",
        "    outputs.append(output)\n",
        "\n",
        "    # process the other layers\n",
        "    for idx in range(1,len(self.weights)):\n",
        "      z_sum = z(self.weights[idx],output,self.biases[idx])\n",
        "      output = self.act_funcs[idx](z_sum)\n",
        "      z_sums.append(z_sum)\n",
        "      outputs.append(output)\n",
        "\n",
        "    return z_sums,outputs\n",
        "\n",
        "  def initialize(self):\n",
        "    # intiliaze the weights : Xavier initialization for the weights\n",
        "    # the first hidden layer\n",
        "    weight = np.random.normal(0,np.sqrt(2/(self.n_inputs+self.nodes[0])),size=(self.n_inputs,self.nodes[0]))\n",
        "    bias =  np.random.randn(self.nodes[0] , 1 )\n",
        "    self.weights.append(weight)\n",
        "    self.biases.append(bias)\n",
        "\n",
        "    # the other layers\n",
        "    for idx in range(1,len(self.nodes)):\n",
        "      weight = np.random.normal(0,np.sqrt(2/(self.nodes[idx-1]+self.nodes[idx]+1)),size=(self.nodes[idx-1],self.nodes[idx]))\n",
        "      bias =  np.random.randn(self.nodes[idx] , 1 )\n",
        "      self.weights.append(weight)\n",
        "      self.biases.append(bias)\n",
        "\n",
        "  def train(self,X_train,y_train,X_test,y_test,iterations=10000,learning_rate=0.03):\n",
        "\n",
        "    # check in case the network is not well built\n",
        "    if self.n_outputs != self.nodes[-1] :\n",
        "      print(\"Network cannot be trained: number of output nodes does not match the last layer\")\n",
        "      return None\n",
        "\n",
        "    # intialization\n",
        "    self.initialize()\n",
        "\n",
        "    costs_train = []\n",
        "    costs_test  = []\n",
        "\n",
        "    deltas = [0]*len(self.weights)\n",
        "    dWs = [0]*len(self.weights)\n",
        "    dbs = [0]*len(self.weights)\n",
        "\n",
        "    print(\"Starting the training\\n\")\n",
        "\n",
        "   # This part should be uncommented but the two vectors #\n",
        "   # here is already reshaped in previous section so commented for this example #\n",
        "   # y_train = np.reshape(y_train, (-1, 1, 1))\n",
        "   # y_test  = np.reshape(y_test , (-1, 1, 1))\n",
        "\n",
        "    for t in range(1,iterations+1):\n",
        "\n",
        "      #print(f\"start {t}\")\n",
        "\n",
        "      # FORWARD PROPAGATION\n",
        "      # Feedforward on test data:\n",
        "      _,out_test =  self.forward(X_test)\n",
        "      ypreds_test =  out_test[-1]\n",
        "\n",
        "      # Feedforward on train data:\n",
        "      z_sums,out_train = self.forward(X_train)\n",
        "      ypreds_train = out_train[-1]\n",
        "\n",
        "      # Cost computation and storage\n",
        "      J_train = cross_entropy_cost(ypreds_train, y_train)\n",
        "      J_test  = cross_entropy_cost(ypreds_test,  y_test )\n",
        "      costs_train.append(J_train)\n",
        "      costs_test.append(J_test)\n",
        "\n",
        "\n",
        "      if (t<=100 and t % 10 == 0) or (t>100 and t % 100 == 0):\n",
        "        print(f\"Iteration {t}\\t Train cost = {J_train:.4f}  Test cost = {J_test:.4f}   Diff = {J_test-J_train:.5f}\")\n",
        "\n",
        "      # BACKWARD PROPAGATION\n",
        "      # Errors delta:\n",
        "      deltas[-1] = self.func_primes[-1](z_sums[-1]) * L_prime(ypreds_train,y_train)\n",
        "      for idx in range(len(self.weights) - 2, -1, -1):\n",
        "        deltas[idx] =self.func_primes[idx](z_sums[idx]) * (self.weights[idx+1]@deltas[idx+1])\n",
        "\n",
        "\n",
        "      # Partial derivatives:\n",
        "      for idx in range(len(dWs)) :\n",
        "        dWs[idx] = (1/X_train.shape[0]) * np.sum(out_train[idx]@np.transpose(deltas[idx], (0, 2, 1)),axis=0)\n",
        "        dbs[idx] = (1/X_train.shape[0]) * np.sum(deltas[idx],axis=0)\n",
        "\n",
        "\n",
        "\n",
        "      # Update of weights and biases\n",
        "      for idx in range(len(dWs)):\n",
        "        self.weights[idx] = self.weights[idx] - learning_rate * dWs[idx]\n",
        "        self.biases[idx] = self.biases[idx] - learning_rate * dbs[idx]\n",
        "\n",
        "    print(f'\\nEnd of gradient descent after {t} iterations')\n",
        "\n",
        "    # plot the costs\n",
        "    plot_cost_vs_iter(costs_train,costs_test)\n",
        "\n",
        "    # return to optimized parameters\n",
        "    return self.weights,self.biases\n",
        "\n"
      ]
    },
    {
      "cell_type": "code",
      "execution_count": null,
      "metadata": {
        "id": "i-JL7Qg_PzNa"
      },
      "outputs": [],
      "source": [
        "## Rebuild the same neural network ##\n",
        "# 2 features and 1 node in output layer #\n",
        "Nnetwork = NeuralNetwork(2,1)\n",
        "# first hidden layer : 3 nodes, tanh as activation function #\n",
        "Nnetwork.add_layer(3,tanh,tanh_prime)\n",
        "Nnetwork.add_layer(2,tanh,tanh_prime) # second hidden layer\n",
        "Nnetwork.add_layer(1,sigmoid,sigmoid_prime) # output layer\n"
      ]
    },
    {
      "cell_type": "code",
      "execution_count": null,
      "metadata": {
        "colab": {
          "base_uri": "https://localhost:8080/",
          "height": 1000
        },
        "id": "XL4SAaI1Qfbs",
        "outputId": "04e4c539-0a8e-4c23-aee5-eabb28116a10"
      },
      "outputs": [
        {
          "name": "stdout",
          "output_type": "stream",
          "text": [
            "Starting the training\n",
            "\n",
            "Iteration 10\t Train cost = 0.8465  Test cost = 0.7953   Diff = -0.05118\n",
            "Iteration 20\t Train cost = 0.7907  Test cost = 0.7363   Diff = -0.05438\n",
            "Iteration 30\t Train cost = 0.7451  Test cost = 0.6889   Diff = -0.05612\n",
            "Iteration 40\t Train cost = 0.7107  Test cost = 0.6539   Diff = -0.05676\n",
            "Iteration 50\t Train cost = 0.6876  Test cost = 0.6323   Diff = -0.05527\n",
            "Iteration 60\t Train cost = 0.6717  Test cost = 0.6187   Diff = -0.05293\n",
            "Iteration 70\t Train cost = 0.6595  Test cost = 0.6087   Diff = -0.05083\n",
            "Iteration 80\t Train cost = 0.6495  Test cost = 0.6003   Diff = -0.04921\n",
            "Iteration 90\t Train cost = 0.6410  Test cost = 0.5930   Diff = -0.04803\n",
            "Iteration 100\t Train cost = 0.6335  Test cost = 0.5863   Diff = -0.04719\n",
            "Iteration 200\t Train cost = 0.5852  Test cost = 0.5388   Diff = -0.04641\n",
            "Iteration 300\t Train cost = 0.5562  Test cost = 0.5080   Diff = -0.04824\n",
            "Iteration 400\t Train cost = 0.5328  Test cost = 0.4834   Diff = -0.04940\n",
            "Iteration 500\t Train cost = 0.5115  Test cost = 0.4620   Diff = -0.04950\n",
            "Iteration 600\t Train cost = 0.4896  Test cost = 0.4414   Diff = -0.04817\n",
            "Iteration 700\t Train cost = 0.4601  Test cost = 0.4155   Diff = -0.04458\n",
            "Iteration 800\t Train cost = 0.4118  Test cost = 0.3732   Diff = -0.03860\n",
            "Iteration 900\t Train cost = 0.3518  Test cost = 0.3190   Diff = -0.03275\n",
            "Iteration 1000\t Train cost = 0.2966  Test cost = 0.2675   Diff = -0.02908\n",
            "Iteration 1100\t Train cost = 0.2522  Test cost = 0.2255   Diff = -0.02672\n",
            "Iteration 1200\t Train cost = 0.2178  Test cost = 0.1929   Diff = -0.02494\n",
            "Iteration 1300\t Train cost = 0.1910  Test cost = 0.1675   Diff = -0.02351\n",
            "Iteration 1400\t Train cost = 0.1697  Test cost = 0.1474   Diff = -0.02230\n",
            "Iteration 1500\t Train cost = 0.1523  Test cost = 0.1311   Diff = -0.02123\n",
            "Iteration 1600\t Train cost = 0.1380  Test cost = 0.1178   Diff = -0.02026\n",
            "Iteration 1700\t Train cost = 0.1260  Test cost = 0.1066   Diff = -0.01932\n",
            "Iteration 1800\t Train cost = 0.1157  Test cost = 0.0973   Diff = -0.01840\n",
            "Iteration 1900\t Train cost = 0.1068  Test cost = 0.0893   Diff = -0.01747\n",
            "Iteration 2000\t Train cost = 0.0990  Test cost = 0.0825   Diff = -0.01652\n",
            "Iteration 2100\t Train cost = 0.0921  Test cost = 0.0766   Diff = -0.01555\n",
            "Iteration 2200\t Train cost = 0.0860  Test cost = 0.0714   Diff = -0.01455\n",
            "Iteration 2300\t Train cost = 0.0805  Test cost = 0.0669   Diff = -0.01356\n",
            "Iteration 2400\t Train cost = 0.0756  Test cost = 0.0630   Diff = -0.01260\n",
            "Iteration 2500\t Train cost = 0.0711  Test cost = 0.0594   Diff = -0.01168\n",
            "Iteration 2600\t Train cost = 0.0671  Test cost = 0.0563   Diff = -0.01082\n",
            "Iteration 2700\t Train cost = 0.0634  Test cost = 0.0534   Diff = -0.01004\n",
            "Iteration 2800\t Train cost = 0.0601  Test cost = 0.0508   Diff = -0.00933\n",
            "Iteration 2900\t Train cost = 0.0571  Test cost = 0.0484   Diff = -0.00870\n",
            "Iteration 3000\t Train cost = 0.0543  Test cost = 0.0462   Diff = -0.00814\n",
            "Iteration 3100\t Train cost = 0.0518  Test cost = 0.0442   Diff = -0.00764\n",
            "Iteration 3200\t Train cost = 0.0495  Test cost = 0.0423   Diff = -0.00719\n",
            "Iteration 3300\t Train cost = 0.0474  Test cost = 0.0406   Diff = -0.00680\n",
            "Iteration 3400\t Train cost = 0.0454  Test cost = 0.0390   Diff = -0.00644\n",
            "Iteration 3500\t Train cost = 0.0436  Test cost = 0.0375   Diff = -0.00612\n",
            "Iteration 3600\t Train cost = 0.0419  Test cost = 0.0361   Diff = -0.00583\n",
            "Iteration 3700\t Train cost = 0.0404  Test cost = 0.0348   Diff = -0.00556\n",
            "Iteration 3800\t Train cost = 0.0389  Test cost = 0.0336   Diff = -0.00532\n",
            "Iteration 3900\t Train cost = 0.0375  Test cost = 0.0324   Diff = -0.00510\n",
            "Iteration 4000\t Train cost = 0.0363  Test cost = 0.0314   Diff = -0.00490\n",
            "Iteration 4100\t Train cost = 0.0351  Test cost = 0.0304   Diff = -0.00471\n",
            "Iteration 4200\t Train cost = 0.0340  Test cost = 0.0294   Diff = -0.00454\n",
            "Iteration 4300\t Train cost = 0.0329  Test cost = 0.0285   Diff = -0.00438\n",
            "Iteration 4400\t Train cost = 0.0319  Test cost = 0.0277   Diff = -0.00422\n",
            "Iteration 4500\t Train cost = 0.0310  Test cost = 0.0269   Diff = -0.00408\n",
            "Iteration 4600\t Train cost = 0.0301  Test cost = 0.0262   Diff = -0.00395\n",
            "Iteration 4700\t Train cost = 0.0293  Test cost = 0.0254   Diff = -0.00383\n",
            "Iteration 4800\t Train cost = 0.0285  Test cost = 0.0248   Diff = -0.00371\n",
            "Iteration 4900\t Train cost = 0.0277  Test cost = 0.0241   Diff = -0.00360\n",
            "Iteration 5000\t Train cost = 0.0270  Test cost = 0.0235   Diff = -0.00350\n",
            "Iteration 5100\t Train cost = 0.0263  Test cost = 0.0229   Diff = -0.00340\n",
            "Iteration 5200\t Train cost = 0.0257  Test cost = 0.0224   Diff = -0.00331\n",
            "Iteration 5300\t Train cost = 0.0251  Test cost = 0.0219   Diff = -0.00322\n",
            "Iteration 5400\t Train cost = 0.0245  Test cost = 0.0214   Diff = -0.00314\n",
            "Iteration 5500\t Train cost = 0.0239  Test cost = 0.0209   Diff = -0.00306\n",
            "Iteration 5600\t Train cost = 0.0234  Test cost = 0.0204   Diff = -0.00299\n",
            "Iteration 5700\t Train cost = 0.0229  Test cost = 0.0200   Diff = -0.00291\n",
            "Iteration 5800\t Train cost = 0.0224  Test cost = 0.0196   Diff = -0.00285\n",
            "Iteration 5900\t Train cost = 0.0219  Test cost = 0.0191   Diff = -0.00278\n",
            "Iteration 6000\t Train cost = 0.0215  Test cost = 0.0188   Diff = -0.00272\n",
            "Iteration 6100\t Train cost = 0.0210  Test cost = 0.0184   Diff = -0.00266\n",
            "Iteration 6200\t Train cost = 0.0206  Test cost = 0.0180   Diff = -0.00260\n",
            "Iteration 6300\t Train cost = 0.0202  Test cost = 0.0177   Diff = -0.00254\n",
            "Iteration 6400\t Train cost = 0.0198  Test cost = 0.0173   Diff = -0.00249\n",
            "Iteration 6500\t Train cost = 0.0195  Test cost = 0.0170   Diff = -0.00244\n",
            "Iteration 6600\t Train cost = 0.0191  Test cost = 0.0167   Diff = -0.00239\n",
            "Iteration 6700\t Train cost = 0.0188  Test cost = 0.0164   Diff = -0.00234\n",
            "Iteration 6800\t Train cost = 0.0184  Test cost = 0.0161   Diff = -0.00230\n",
            "Iteration 6900\t Train cost = 0.0181  Test cost = 0.0158   Diff = -0.00226\n",
            "Iteration 7000\t Train cost = 0.0178  Test cost = 0.0156   Diff = -0.00221\n",
            "Iteration 7100\t Train cost = 0.0175  Test cost = 0.0153   Diff = -0.00217\n",
            "Iteration 7200\t Train cost = 0.0172  Test cost = 0.0151   Diff = -0.00213\n",
            "Iteration 7300\t Train cost = 0.0169  Test cost = 0.0148   Diff = -0.00210\n",
            "Iteration 7400\t Train cost = 0.0166  Test cost = 0.0146   Diff = -0.00206\n",
            "Iteration 7500\t Train cost = 0.0164  Test cost = 0.0144   Diff = -0.00202\n",
            "Iteration 7600\t Train cost = 0.0161  Test cost = 0.0141   Diff = -0.00199\n",
            "Iteration 7700\t Train cost = 0.0159  Test cost = 0.0139   Diff = -0.00196\n",
            "Iteration 7800\t Train cost = 0.0156  Test cost = 0.0137   Diff = -0.00192\n",
            "Iteration 7900\t Train cost = 0.0154  Test cost = 0.0135   Diff = -0.00189\n",
            "Iteration 8000\t Train cost = 0.0152  Test cost = 0.0133   Diff = -0.00186\n",
            "update done \n",
            "\n",
            "End of gradient descent after 8000 iterations\n"
          ]
        },
        {
          "data": {
            "image/png": "[encoded data removed]",
            "text/plain": [
              "<Figure size 800x600 with 1 Axes>"
            ]
          },
          "metadata": {},
          "output_type": "display_data"
        }
      ],
      "source": [
        "# Train train train ! we will use the optimized parameters to plot the decision surface\n",
        "weights,biases = Nnetwork.train(X_train,y_train,X_test,y_test,iterations=8000)"
      ]
    },
    {
      "cell_type": "code",
      "execution_count": null,
      "metadata": {
        "colab": {
          "base_uri": "https://localhost:8080/",
          "height": 609
        },
        "id": "ORPXdWFAQtGD",
        "outputId": "9e7f6e1b-6678-4126-bfda-957b36e2f998"
      },
      "outputs": [
        {
          "data": {
            "image/png": "[encoded data removed]",
            "text/plain": [
              "<Figure size 600x600 with 1 Axes>"
            ]
          },
          "metadata": {},
          "output_type": "display_data"
        }
      ],
      "source": [
        "# Yay ! we see the plot again !\n",
        "ds = get_decision_surface(weights=weights,biases=biases)\n",
        "plot_scatter(sig_train,bkg_train,ds=ds)"
      ]
    }
  ],
  "metadata": {
    "colab": {
      "provenance": []
    },
    "kernelspec": {
      "display_name": "Python 3",
      "name": "python3"
    },
    "language_info": {
      "name": "python"
    }
  },
  "nbformat": 4,
  "nbformat_minor": 0
}
